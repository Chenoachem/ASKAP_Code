{
 "cells": [
  {
   "cell_type": "code",
   "execution_count": 1,
   "metadata": {},
   "outputs": [],
   "source": [
    "from astropy.table import Table"
   ]
  },
  {
   "cell_type": "code",
   "execution_count": 2,
   "metadata": {},
   "outputs": [],
   "source": [
    "t = Table.read('Cubelets_Source_Finding/Not_Real_Sources.csv', format='ascii.csv',delimiter=',')"
   ]
  },
  {
   "cell_type": "code",
   "execution_count": 7,
   "metadata": {},
   "outputs": [
    {
     "name": "stdout",
     "output_type": "stream",
     "text": [
      "   RA       Dec   \n",
      "-------- ---------\n",
      "16:34:38 -47:36:34\n",
      "16:34:38 -47:36:34\n",
      "16:34:38 -47:36:34\n",
      "16:34:38 -47:36:34\n",
      "16:34:54 -47:35:39\n",
      "16:34:54 -47:35:39\n",
      "16:34:54 -47:35:39\n",
      "16:34:54 -47:35:39\n",
      "16:34:54 -47:35:39\n",
      "16:34:59 -46:17:59\n",
      "     ...       ...\n",
      "17:00:11 -42:07:19\n",
      "17:00:11 -42:07:19\n",
      "17:00:11 -42:07:19\n",
      "17:00:11 -42:07:19\n",
      "16:38:30 -47:00:35\n",
      "16:38:30 -47:00:35\n",
      "16:40:15 -46:38:40\n",
      "16:46:23 -45:38:23\n",
      "16:46:23 -45:38:23\n",
      "17:00:50 -42:26:08\n",
      "17:02:37 -44:29:12\n",
      "Length = 258 rows\n"
     ]
    }
   ],
   "source": [
    "from astropy.io import ascii\n",
    "test_input = 'Cubelets_Source_Finding/Real_Sources_RADEC.csv'\n",
    "text_file = ascii.read(test_input)\n",
    "print(text_file)\n",
    "text_file.write('Cubelets_Source_Finding/Real_SourcesV3.fits')"
   ]
  },
  {
   "cell_type": "code",
   "execution_count": 11,
   "metadata": {},
   "outputs": [],
   "source": [
    "import astropy.table as at\n",
    "fits_file = 'Paper_Sources_Known2.fits'\n",
    "table = at.Table.read(fits_file)"
   ]
  },
  {
   "cell_type": "code",
   "execution_count": 12,
   "metadata": {},
   "outputs": [
    {
     "name": "stdout",
     "output_type": "stream",
     "text": [
      "     RA          Dec     \n",
      "------------ ------------\n",
      "16:37:06.567 -48:13:42.32\n",
      " 16:34:38.26  -47:36:33.0\n",
      " 16:34:54.39  -47:35:37.2\n",
      " 16:35:55.22  -47:38:45.7\n",
      " 16:36:12.46  -47:37:55.0\n",
      " 16:35:33.95  -47:31:11.4\n",
      "16:38:47.917 -48:00:09.39\n",
      "16:35:46.541 -47:16:16.91\n",
      " 16:36:56.36  -47:22:26.8\n",
      " 16:38:50.57  -47:27:59.3\n",
      "         ...          ...\n",
      "16:48:36.699 -44:56:20.44\n",
      "16:45:39.744 -44:20:20.36\n",
      "16:55:37.853 -45:06:11.32\n",
      "16:59:22.624 -45:36:08.64\n",
      " 16:52:17.84  -44:26:52.5\n",
      " 16:51:19.43  -44:13:44.5\n",
      "16:57:11.741 -43:09:36.11\n",
      " 16:58:17.19  -42:52:08.4\n",
      "17:00:50.009 -42:26:10.37\n",
      " 17:00:10.92  -42:07:18.7\n",
      " 17:04:07.81  -42:18:40.2\n",
      "Length = 49 rows\n"
     ]
    }
   ],
   "source": [
    "print(table)"
   ]
  },
  {
   "cell_type": "code",
   "execution_count": 13,
   "metadata": {},
   "outputs": [],
   "source": [
    "import astropy.table as at\n",
    "fits_file = 'Paper_Sources_Known2.fits'\n",
    "table = at.Table.read(fits_file)"
   ]
  },
  {
   "cell_type": "code",
   "execution_count": 14,
   "metadata": {},
   "outputs": [
    {
     "data": {
      "text/plain": [
       "<Table length=49>\n",
       "name dtype\n",
       "---- -----\n",
       " ﻿RA str12\n",
       " Dec str12"
      ]
     },
     "execution_count": 14,
     "metadata": {},
     "output_type": "execute_result"
    }
   ],
   "source": [
    "t.info"
   ]
  },
  {
   "cell_type": "code",
   "execution_count": 15,
   "metadata": {},
   "outputs": [
    {
     "data": {
      "text/html": [
       "<i>Table length=49</i>\n",
       "<table id=\"table140311585538960-139966\" class=\"table-striped table-bordered table-condensed\">\n",
       "<thead><tr><th>idx</th><th>﻿RA</th><th>Dec</th></tr></thead>\n",
       "<tr><td>0</td><td>16 37 06.567</td><td>-48 13 42.32</td></tr>\n",
       "<tr><td>1</td><td>16 34 38.26</td><td>-47 36 33.0</td></tr>\n",
       "<tr><td>2</td><td>16 34 54.39</td><td>-47 35 37.2</td></tr>\n",
       "<tr><td>3</td><td>16 35 55.22</td><td>-47 38 45.7</td></tr>\n",
       "<tr><td>4</td><td>16 36 12.46</td><td>-47 37 55.0</td></tr>\n",
       "<tr><td>5</td><td>16 35 33.95</td><td>-47 31 11.4</td></tr>\n",
       "<tr><td>6</td><td>16 38 47.917</td><td>-48 00 09.39</td></tr>\n",
       "<tr><td>7</td><td>16 35 46.541</td><td>-47 16 16.91</td></tr>\n",
       "<tr><td>8</td><td>16 36 56.36</td><td>-47 22 26.8</td></tr>\n",
       "<tr><td>9</td><td>16 38 50.57</td><td>-47 27 59.3</td></tr>\n",
       "<tr><td>10</td><td>16 37 02.594</td><td>-47 00 40.19</td></tr>\n",
       "<tr><td>11</td><td>16 38 09.50</td><td>-47 04 59.8</td></tr>\n",
       "<tr><td>12</td><td>16 38 29.68</td><td>-47 00 35.2</td></tr>\n",
       "<tr><td>13</td><td>16 36 47.659</td><td>-46 43 47.05</td></tr>\n",
       "<tr><td>14</td><td>16 37 41.516</td><td>-46 40 40.95</td></tr>\n",
       "<tr><td>15</td><td>16 41 10.43</td><td>-47 08 03.1</td></tr>\n",
       "<tr><td>16</td><td>16 41 06.07</td><td>-47 07 02.4</td></tr>\n",
       "<tr><td>17</td><td>16 38 48.48</td><td>-46 39 57.6</td></tr>\n",
       "<tr><td>18</td><td>16 40 04.009</td><td>-46 51 18.11</td></tr>\n",
       "<tr><td>19</td><td>16 39 39.05</td><td>-46 41 28.0</td></tr>\n",
       "<tr><td>20</td><td>16 38 09.05</td><td>-46 11 03.1</td></tr>\n",
       "<tr><td>21</td><td>16 42 15.53</td><td>-46 34 18.7</td></tr>\n",
       "<tr><td>22</td><td>16 39 58.88</td><td>-46 12 35.7</td></tr>\n",
       "<tr><td>23</td><td>16 41 07.023</td><td>-46 15 27.88</td></tr>\n",
       "<tr><td>24</td><td>16 36 25.745</td><td>-45 24 03.90</td></tr>\n",
       "<tr><td>25</td><td>16 43 08.23</td><td>-46 09 12.8</td></tr>\n",
       "<tr><td>26</td><td>16 40 33.57</td><td>-45 41 37.2</td></tr>\n",
       "<tr><td>27</td><td>16 44 49.16</td><td>-46 10 14.4</td></tr>\n",
       "<tr><td>28</td><td>16 43 43.12</td><td>-45 42 08.4</td></tr>\n",
       "<tr><td>29</td><td>16 43 44.937</td><td>-45 41 28.54</td></tr>\n",
       "<tr><td>30</td><td>16 51 06.21</td><td>-46 15 57.8</td></tr>\n",
       "<tr><td>31</td><td>16 51 06.20</td><td>-46 15 59.8</td></tr>\n",
       "<tr><td>32</td><td>16 52 04.67</td><td>-46 08 34.7</td></tr>\n",
       "<tr><td>33</td><td>16 52 04.64</td><td>-46 08 33.5</td></tr>\n",
       "<tr><td>34</td><td>16 49 07.957</td><td>-45 37 58.92</td></tr>\n",
       "<tr><td>35</td><td>16 48 46.321</td><td>-45 31 50.85</td></tr>\n",
       "<tr><td>36</td><td>16 47 31.796</td><td>-45 16 22.65</td></tr>\n",
       "<tr><td>37</td><td>16 48 13.88</td><td>-45 21 45.1</td></tr>\n",
       "<tr><td>38</td><td>16 48 36.699</td><td>-44 56 20.44</td></tr>\n",
       "<tr><td>39</td><td>16 45 39.744</td><td>-44 20 20.36</td></tr>\n",
       "<tr><td>40</td><td>16 55 37.853</td><td>-45 06 11.32</td></tr>\n",
       "<tr><td>41</td><td>16 59 22.624</td><td>-45 36 08.64</td></tr>\n",
       "<tr><td>42</td><td>16 52 17.84</td><td>-44 26 52.5</td></tr>\n",
       "<tr><td>43</td><td>16 51 19.43</td><td>-44 13 44.5</td></tr>\n",
       "<tr><td>44</td><td>16 57 11.741</td><td>-43 09 36.11</td></tr>\n",
       "<tr><td>45</td><td>16 58 17.19</td><td>-42 52 08.4</td></tr>\n",
       "<tr><td>46</td><td>17 00 50.009</td><td>-42 26 10.37</td></tr>\n",
       "<tr><td>47</td><td>17 00 10.92</td><td>-42 07 18.7</td></tr>\n",
       "<tr><td>48</td><td>17 04 07.81</td><td>-42 18 40.2</td></tr>\n",
       "</table><style>table.dataTable {clear: both; width: auto !important; margin: 0 !important;}\n",
       ".dataTables_info, .dataTables_length, .dataTables_filter, .dataTables_paginate{\n",
       "display: inline-block; margin-right: 1em; }\n",
       ".paginate_button { margin-right: 5px; }\n",
       "</style>\n",
       "<script>\n",
       "\n",
       "var astropy_sort_num = function(a, b) {\n",
       "    var a_num = parseFloat(a);\n",
       "    var b_num = parseFloat(b);\n",
       "\n",
       "    if (isNaN(a_num) && isNaN(b_num))\n",
       "        return ((a < b) ? -1 : ((a > b) ? 1 : 0));\n",
       "    else if (!isNaN(a_num) && !isNaN(b_num))\n",
       "        return ((a_num < b_num) ? -1 : ((a_num > b_num) ? 1 : 0));\n",
       "    else\n",
       "        return isNaN(a_num) ? -1 : 1;\n",
       "}\n",
       "\n",
       "require.config({paths: {\n",
       "    datatables: 'https://cdn.datatables.net/1.10.12/js/jquery.dataTables.min'\n",
       "}});\n",
       "require([\"datatables\"], function(){\n",
       "    console.log(\"$('#table140311585538960-139966').dataTable()\");\n",
       "    \n",
       "jQuery.extend( jQuery.fn.dataTableExt.oSort, {\n",
       "    \"optionalnum-asc\": astropy_sort_num,\n",
       "    \"optionalnum-desc\": function (a,b) { return -astropy_sort_num(a, b); }\n",
       "});\n",
       "\n",
       "    $('#table140311585538960-139966').dataTable({\n",
       "        order: [],\n",
       "        pageLength: 50,\n",
       "        lengthMenu: [[10, 25, 50, 100, 500, 1000, -1], [10, 25, 50, 100, 500, 1000, 'All']],\n",
       "        pagingType: \"full_numbers\",\n",
       "        columnDefs: [{targets: [0], type: \"optionalnum\"}]\n",
       "    });\n",
       "});\n",
       "</script>\n"
      ],
      "text/plain": [
       "<IPython.core.display.HTML object>"
      ]
     },
     "execution_count": 15,
     "metadata": {},
     "output_type": "execute_result"
    }
   ],
   "source": [
    "t.show_in_notebook()"
   ]
  },
  {
   "cell_type": "code",
   "execution_count": 16,
   "metadata": {},
   "outputs": [
    {
     "data": {
      "text/plain": [
       "['\\ufeffRA', 'Dec']"
      ]
     },
     "execution_count": 16,
     "metadata": {},
     "output_type": "execute_result"
    }
   ],
   "source": [
    "t.colnames"
   ]
  },
  {
   "cell_type": "code",
   "execution_count": 17,
   "metadata": {},
   "outputs": [],
   "source": [
    "from astropy.time import Time\n",
    "from astropy.coordinates import SkyCoord"
   ]
  },
  {
   "cell_type": "code",
   "execution_count": 18,
   "metadata": {},
   "outputs": [
    {
     "ename": "AttributeError",
     "evalue": "'Table' object has no attribute 'to'",
     "output_type": "error",
     "traceback": [
      "\u001b[0;31m---------------------------------------------------------------------------\u001b[0m",
      "\u001b[0;31mAttributeError\u001b[0m                            Traceback (most recent call last)",
      "\u001b[0;32m<ipython-input-18-7f00302f766d>\u001b[0m in \u001b[0;36m<module>\u001b[0;34m\u001b[0m\n\u001b[0;32m----> 1\u001b[0;31m \u001b[0mt\u001b[0m\u001b[0;34m.\u001b[0m\u001b[0mto\u001b[0m\u001b[0;34m(\u001b[0m\u001b[0mu\u001b[0m\u001b[0;34m.\u001b[0m\u001b[0mhourangle\u001b[0m\u001b[0;34m,\u001b[0m \u001b[0mu\u001b[0m\u001b[0;34m.\u001b[0m\u001b[0mdeg\u001b[0m\u001b[0;34m)\u001b[0m\u001b[0;34m\u001b[0m\u001b[0;34m\u001b[0m\u001b[0m\n\u001b[0m",
      "\u001b[0;31mAttributeError\u001b[0m: 'Table' object has no attribute 'to'"
     ]
    }
   ],
   "source": [
    "t.to(u.hourangle, u.deg)"
   ]
  },
  {
   "cell_type": "code",
   "execution_count": 19,
   "metadata": {},
   "outputs": [],
   "source": [
    "from astropy.table import QTable\n",
    "from astropy import units as u"
   ]
  },
  {
   "cell_type": "code",
   "execution_count": 20,
   "metadata": {},
   "outputs": [],
   "source": [
    "t = QTable()"
   ]
  },
  {
   "cell_type": "code",
   "execution_count": 21,
   "metadata": {},
   "outputs": [],
   "source": [
    "from astropy.coordinates import SkyCoord  # High-level coordinates\n",
    "from astropy.coordinates import ICRS, Galactic, FK4, FK5  # Low-level frames\n",
    "from astropy.coordinates import Angle, Latitude, Longitude  # Angles\n",
    "import astropy.units as u"
   ]
  },
  {
   "cell_type": "code",
   "execution_count": 23,
   "metadata": {},
   "outputs": [
    {
     "ename": "SyntaxError",
     "evalue": "invalid syntax (<ipython-input-23-3d02f9d6598c>, line 1)",
     "output_type": "error",
     "traceback": [
      "\u001b[0;36m  File \u001b[0;32m\"<ipython-input-23-3d02f9d6598c>\"\u001b[0;36m, line \u001b[0;32m1\u001b[0m\n\u001b[0;31m    RA_coord=[16 37 06.567,16 34 38.26,16 34 54.39,16 35 55.22,16 36 12.46,16 35 33.95,16 38 47.917,16 35 46.541,16 36 56.36,16 38 50.57,16 37 02.594,16 38 09.50,16 38 29.68,16 36 47.659,16 37 41.516,16 41 10.43,16 41 06.07,16 38 48.48,16 40 04.009,16 39 39.05,16 38 09.05,16 42 15.53,16 39 58.88,16 41 07.023,16 36 25.745,16 43 08.23,16 40 33.57,16 44 49.16,16 43 43.12,16 43 44.937,16 51 06.21,16 51 06.20,16 52 04.67,16 52 04.64,16 49 07.957,16 48 46.321,16 47 31.796,16 48 13.88,16 48 36.699,16 45 39.744,16 55 37.853,16 59 22.624,16 52 17.84,16 51 19.43,16 57 11.741,16 58 17.19,17 00 50.009,17 00 10.92,17 04 07.81]\u001b[0m\n\u001b[0m                  ^\u001b[0m\n\u001b[0;31mSyntaxError\u001b[0m\u001b[0;31m:\u001b[0m invalid syntax\n"
     ]
    }
   ],
   "source": [
    "RA_coord=[16 37 06.567,16 34 38.26,16 34 54.39,16 35 55.22,16 36 12.46,16 35 33.95,16 38 47.917,16 35 46.541,16 36 56.36,16 38 50.57,16 37 02.594,16 38 09.50,16 38 29.68,16 36 47.659,16 37 41.516,16 41 10.43,16 41 06.07,16 38 48.48,16 40 04.009,16 39 39.05,16 38 09.05,16 42 15.53,16 39 58.88,16 41 07.023,16 36 25.745,16 43 08.23,16 40 33.57,16 44 49.16,16 43 43.12,16 43 44.937,16 51 06.21,16 51 06.20,16 52 04.67,16 52 04.64,16 49 07.957,16 48 46.321,16 47 31.796,16 48 13.88,16 48 36.699,16 45 39.744,16 55 37.853,16 59 22.624,16 52 17.84,16 51 19.43,16 57 11.741,16 58 17.19,17 00 50.009,17 00 10.92,17 04 07.81]"
   ]
  },
  {
   "cell_type": "code",
   "execution_count": null,
   "metadata": {},
   "outputs": [],
   "source": [
    "type(t[''])"
   ]
  },
  {
   "cell_type": "code",
   "execution_count": null,
   "metadata": {},
   "outputs": [],
   "source": [
    "t['RA'] = [16:37:06.567, 16:34:38.26, 16:34:54.39, 16:35:55.22, 16:36:12.46, 16:35:33.95, 16:38:47.917, 16:35:46.541, 16:36:56.36, 16:38:50.57, 16:37:02.594, 16:38:09.50, 16:38:29.68, 16:36:47.659, 16:37:41.516, 16:41:10.43, 16:41:06.07, 16:38:48.48, 16:40:04.009, 16:39:39.05, 16:38:09.05, 16:42:15.53, 16:39:58.88, 16:41:07.023, 16:36:25.745, 16:43:08.23, 16:40:33.57, 16:44:49.16, 16:43:43.12, 16:43:44.937, 16:51:06.21, 16:51:06.20, 16:52:04.67, 16:52:04.64, 16:49:07.957, 16:48:46.321, 16:47:31.796, 16:48:13.88, 16:48:36.699, 16:45:39.744, 16:55:37.853, 16:59:22.624, 16:52:17.84, 16:51:19.43, 16:57:11.741, 16:58:17.19, 17:00:50.009, 17:00:10.92, 17:04:07.81] * u.hourangle"
   ]
  },
  {
   "cell_type": "code",
   "execution_count": null,
   "metadata": {},
   "outputs": [],
   "source": []
  }
 ],
 "metadata": {
  "kernelspec": {
   "display_name": "Python 3",
   "language": "python",
   "name": "python3"
  },
  "language_info": {
   "codemirror_mode": {
    "name": "ipython",
    "version": 3
   },
   "file_extension": ".py",
   "mimetype": "text/x-python",
   "name": "python",
   "nbconvert_exporter": "python",
   "pygments_lexer": "ipython3",
   "version": "3.7.4"
  }
 },
 "nbformat": 4,
 "nbformat_minor": 2
}
